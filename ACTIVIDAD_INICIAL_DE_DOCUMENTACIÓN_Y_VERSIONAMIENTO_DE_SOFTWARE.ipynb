{
  "nbformat": 4,
  "nbformat_minor": 0,
  "metadata": {
    "colab": {
      "provenance": [],
      "authorship_tag": "ABX9TyNVAlH2jhDlyD0z3PG8WrRQ",
      "include_colab_link": true
    },
    "kernelspec": {
      "name": "python3",
      "display_name": "Python 3"
    },
    "language_info": {
      "name": "python"
    }
  },
  "cells": [
    {
      "cell_type": "markdown",
      "metadata": {
        "id": "view-in-github",
        "colab_type": "text"
      },
      "source": [
        "<a href=\"https://colab.research.google.com/github/rere17q/Darlinton_Rengifo/blob/main/ACTIVIDAD_INICIAL_DE_DOCUMENTACI%C3%93N_Y_VERSIONAMIENTO_DE_SOFTWARE.ipynb\" target=\"_parent\"><img src=\"https://colab.research.google.com/assets/colab-badge.svg\" alt=\"Open In Colab\"/></a>"
      ]
    },
    {
      "cell_type": "code",
      "execution_count": 3,
      "metadata": {
        "colab": {
          "base_uri": "https://localhost:8080/"
        },
        "id": "rrLBWwOUWfxA",
        "outputId": "0476955f-7af0-4a74-f6f1-8df7f1890387"
      },
      "outputs": [
        {
          "output_type": "stream",
          "name": "stdout",
          "text": [
            "Ingrese un valor natural (índice/posición): -2\n",
            "El valor en la posición -2 de la serie es: -7\n"
          ]
        }
      ],
      "source": [
        "def calcular_valor_en_posicion(n):\n",
        "    if n % 2 == 0:\n",
        "        # Si n es par, el valor en la posición n es 7 * (n // 2)\n",
        "        return 7 * (n // 2)\n",
        "    else:\n",
        "        # Si n es impar, el valor en la posición n es -2 * ((n - 1) // 2) + 1\n",
        "        return -2 * ((n - 1) // 2) + 1\n",
        "\n",
        "# Pedir al usuario que ingrese un valor natural\n",
        "n = int(input(\"Ingrese un valor natural (índice/posición): \"))\n",
        "\n",
        "# Calcular el valor en la posición n usando la función definida\n",
        "valor_en_posicion = calcular_valor_en_posicion(n)\n",
        "\n",
        "# Imprimir el valor en la posición n\n",
        "print(f\"El valor en la posición {n} de la serie es: {valor_en_posicion}\")"
      ]
    }
  ]
}